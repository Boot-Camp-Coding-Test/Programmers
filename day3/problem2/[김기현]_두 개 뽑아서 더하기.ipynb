{
  "nbformat": 4,
  "nbformat_minor": 0,
  "metadata": {
    "colab": {
      "name": "[김기현] K번째수",
      "provenance": []
    },
    "kernelspec": {
      "name": "python3",
      "display_name": "Python 3"
    },
    "language_info": {
      "name": "python"
    }
  },
  "cells": [
    {
      "cell_type": "code",
      "metadata": {
        "id": "S5AoCAGhnfr4"
      },
      "source": [
        "# 서로 다른 인덱스의 합 리스트\n",
        "numbers1 = [2,1,3,4,1]\n",
        "numbers2 = [5,0,2,7]"
      ],
      "execution_count": 1,
      "outputs": []
    },
    {
      "cell_type": "code",
      "metadata": {
        "id": "qRSmcc6wqpuB"
      },
      "source": [
        "def solution(numbers):\n",
        "    answer = []\n",
        "    \n",
        "    for i in range(len(numbers)):\n",
        "        if i == (len(numbers)-1):\n",
        "                break\n",
        "        for j in range(i+1, len(numbers)):\n",
        "            sum_ele = numbers[i] + numbers[j]\n",
        "            answer.append(sum_ele)\n",
        "            \n",
        "    answer = list(set(answer))\n",
        "    answer.sort()\n",
        "\n",
        "    return answer"
      ],
      "execution_count": 2,
      "outputs": []
    },
    {
      "cell_type": "code",
      "metadata": {
        "colab": {
          "base_uri": "https://localhost:8080/"
        },
        "id": "rJB5AG1NtNa6",
        "outputId": "6de51db8-0fc3-40be-a65e-7bbb2f822414"
      },
      "source": [
        "solution(numbers1)"
      ],
      "execution_count": 3,
      "outputs": [
        {
          "output_type": "execute_result",
          "data": {
            "text/plain": [
              "[2, 3, 4, 5, 6, 7]"
            ]
          },
          "metadata": {
            "tags": []
          },
          "execution_count": 3
        }
      ]
    },
    {
      "cell_type": "code",
      "metadata": {
        "colab": {
          "base_uri": "https://localhost:8080/"
        },
        "id": "9vIMkBsPq2so",
        "outputId": "27177a45-b66a-45c4-b7f6-fdb4e0194177"
      },
      "source": [
        "solution(numbers2)"
      ],
      "execution_count": 4,
      "outputs": [
        {
          "output_type": "execute_result",
          "data": {
            "text/plain": [
              "[2, 5, 7, 9, 12]"
            ]
          },
          "metadata": {
            "tags": []
          },
          "execution_count": 4
        }
      ]
    },
    {
      "cell_type": "code",
      "metadata": {
        "id": "-T82_stgq6DU"
      },
      "source": [
        ""
      ],
      "execution_count": null,
      "outputs": []
    }
  ]
}