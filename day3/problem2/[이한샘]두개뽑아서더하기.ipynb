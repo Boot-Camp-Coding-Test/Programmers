{
  "nbformat": 4,
  "nbformat_minor": 0,
  "metadata": {
    "colab": {
      "name": "두개뽑아서더하기.ipynb",
      "provenance": [],
      "collapsed_sections": []
    },
    "kernelspec": {
      "name": "python3",
      "display_name": "Python 3"
    },
    "language_info": {
      "name": "python"
    }
  },
  "cells": [
    {
      "cell_type": "code",
      "metadata": {
        "id": "-JnmrnpjLF6R"
      },
      "source": [
        "#2개 뽑아서 더하기 \n",
        "\n",
        "def solution(numbers):\n",
        "    \n",
        "    answer = []\n",
        "    return answer"
      ],
      "execution_count": 1,
      "outputs": []
    },
    {
      "cell_type": "code",
      "metadata": {
        "colab": {
          "base_uri": "https://localhost:8080/"
        },
        "id": "8iKm_P7YLJIm",
        "outputId": "7265ddef-ade3-435e-e745-30b22a88b2b3"
      },
      "source": [
        "numbers = [2,1,3,4,1]\n",
        "answer = []\n",
        "\n",
        "for i in range(len(numbers)):\n",
        "  for j in range(len(numbers)) :\n",
        "    if i != j :\n",
        "      answer.append(numbers[i] + numbers[j])\n",
        "sorted(list(set(answer)), reverse=False)"
      ],
      "execution_count": 34,
      "outputs": [
        {
          "output_type": "execute_result",
          "data": {
            "text/plain": [
              "[2, 3, 4, 5, 6, 7]"
            ]
          },
          "metadata": {
            "tags": []
          },
          "execution_count": 34
        }
      ]
    }
  ]
}
