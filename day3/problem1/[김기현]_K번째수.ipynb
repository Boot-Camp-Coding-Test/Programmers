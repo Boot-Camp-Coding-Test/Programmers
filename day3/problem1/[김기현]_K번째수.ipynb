{
  "nbformat": 4,
  "nbformat_minor": 0,
  "metadata": {
    "colab": {
      "name": "[김기현] K번째수",
      "provenance": []
    },
    "kernelspec": {
      "name": "python3",
      "display_name": "Python 3"
    },
    "language_info": {
      "name": "python"
    }
  },
  "cells": [
    {
      "cell_type": "code",
      "metadata": {
        "id": "a1BKxtyem9hO"
      },
      "source": [
        "def solution(array, commands):\n",
        "    answer = []\n",
        "    \n",
        "    for i in commands:\n",
        "        start = i[0]-1\n",
        "        end = i[1]\n",
        "        num = i[2]-1\n",
        "\n",
        "        if start != end:\n",
        "            new_array = array[start:end]\n",
        "            new_array.sort()\n",
        "            answer.append(new_array[num])\n",
        "\n",
        "        else:\n",
        "            answer.append(array[start])\n",
        "    return answer"
      ],
      "execution_count": 26,
      "outputs": []
    },
    {
      "cell_type": "code",
      "metadata": {
        "id": "S5AoCAGhnfr4"
      },
      "source": [
        ""
      ],
      "execution_count": null,
      "outputs": []
    }
  ]
}