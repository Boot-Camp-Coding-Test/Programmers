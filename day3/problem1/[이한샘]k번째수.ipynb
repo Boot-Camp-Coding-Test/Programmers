{
  "nbformat": 4,
  "nbformat_minor": 0,
  "metadata": {
    "colab": {
      "name": "k번째수.ipynb",
      "provenance": []
    },
    "kernelspec": {
      "name": "python3",
      "display_name": "Python 3"
    },
    "language_info": {
      "name": "python"
    }
  },
  "cells": [
    {
      "cell_type": "code",
      "metadata": {
        "id": "Le7fnPY8KgOj"
      },
      "source": [
        "# k번째수\n",
        "\n",
        "def solution(array, commands):\n",
        "    answer = []\n",
        "    for c in commands :\n",
        "      a = sorted(array[c[0]-1:c[1]])\n",
        "      answer.append(a[c[2]-1])\n",
        "    return answer"
      ],
      "execution_count": 2,
      "outputs": []
    },
    {
      "cell_type": "code",
      "metadata": {
        "id": "K6jG2R1SKmUg"
      },
      "source": [
        "array = [1, 5, 2, 6, 3, 7, 4]\n",
        "commands = [[2, 5, 3], [4, 4, 1], [1, 7, 3]]"
      ],
      "execution_count": 1,
      "outputs": []
    },
    {
      "cell_type": "code",
      "metadata": {
        "colab": {
          "base_uri": "https://localhost:8080/"
        },
        "id": "EPWxEMggK054",
        "outputId": "4d39b7f9-cc0b-4346-cf84-1c5a3348c624"
      },
      "source": [
        "solution(array, commands)"
      ],
      "execution_count": 3,
      "outputs": [
        {
          "output_type": "execute_result",
          "data": {
            "text/plain": [
              "[5, 6, 3]"
            ]
          },
          "metadata": {
            "tags": []
          },
          "execution_count": 3
        }
      ]
    }
  ]
}
