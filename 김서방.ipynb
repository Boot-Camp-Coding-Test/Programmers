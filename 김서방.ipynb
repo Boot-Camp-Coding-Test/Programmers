{
  "nbformat": 4,
  "nbformat_minor": 0,
  "metadata": {
    "colab": {
      "name": "김서방.ipynb",
      "provenance": [],
      "collapsed_sections": []
    },
    "kernelspec": {
      "name": "python3",
      "display_name": "Python 3"
    },
    "language_info": {
      "name": "python"
    }
  },
  "cells": [
    {
      "cell_type": "code",
      "metadata": {
        "id": "EJV9_-wZ_Xcs"
      },
      "source": [
        "def solution(seoul):\n",
        "    for i, name in enumerate(seoul) :\n",
        "      if name == 'Kim':\n",
        "        return f\"김서방은 {i}에 있다\"\n",
        "    \n"
      ],
      "execution_count": 11,
      "outputs": []
    }
  ]
}