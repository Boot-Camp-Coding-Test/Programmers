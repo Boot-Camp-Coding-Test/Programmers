{
  "nbformat": 4,
  "nbformat_minor": 0,
  "metadata": {
    "colab": {
      "name": "문자열을 정수로 바꾸기.ipynb",
      "provenance": []
    },
    "kernelspec": {
      "name": "python3",
      "display_name": "Python 3"
    },
    "language_info": {
      "name": "python"
    }
  },
  "cells": [
    {
      "cell_type": "code",
      "metadata": {
        "id": "EDWB0v9tMQG7"
      },
      "source": [
        "def solution(s):\n",
        "    answer = 0\n",
        "    if s[0] == '-':\n",
        "        answer = -int(s[1:])\n",
        "    elif s[0] == '+':\n",
        "        answer = int(s[1:])\n",
        "    else:\n",
        "        answer = int(s)\n",
        "    return answer"
      ],
      "execution_count": 16,
      "outputs": []
    },
    {
      "cell_type": "code",
      "metadata": {
        "colab": {
          "base_uri": "https://localhost:8080/"
        },
        "id": "nSkE1qvKLjKD",
        "outputId": "9865b296-6ce3-452e-f177-a19a4d94b04c"
      },
      "source": [
        "s = '-1234'\n",
        "solution(s)"
      ],
      "execution_count": 17,
      "outputs": [
        {
          "output_type": "execute_result",
          "data": {
            "text/plain": [
              "-1234"
            ]
          },
          "metadata": {
            "tags": []
          },
          "execution_count": 17
        }
      ]
    },
    {
      "cell_type": "code",
      "metadata": {
        "colab": {
          "base_uri": "https://localhost:8080/"
        },
        "id": "RrgW54iYMVJq",
        "outputId": "70097ae9-5ff2-4b29-915b-2e33d43c69a8"
      },
      "source": [
        "s = '+1234'\n",
        "solution(s)"
      ],
      "execution_count": 18,
      "outputs": [
        {
          "output_type": "execute_result",
          "data": {
            "text/plain": [
              "1234"
            ]
          },
          "metadata": {
            "tags": []
          },
          "execution_count": 18
        }
      ]
    },
    {
      "cell_type": "code",
      "metadata": {
        "colab": {
          "base_uri": "https://localhost:8080/"
        },
        "id": "r4Y8Kuz0Raf1",
        "outputId": "b7e0aebf-99b1-4643-a141-a6531a63ceae"
      },
      "source": [
        "s = '115'\n",
        "solution(s)"
      ],
      "execution_count": 19,
      "outputs": [
        {
          "output_type": "execute_result",
          "data": {
            "text/plain": [
              "115"
            ]
          },
          "metadata": {
            "tags": []
          },
          "execution_count": 19
        }
      ]
    },
    {
      "cell_type": "code",
      "metadata": {
        "id": "BGyE06_RRcSd"
      },
      "source": [
        ""
      ],
      "execution_count": null,
      "outputs": []
    }
  ]
}