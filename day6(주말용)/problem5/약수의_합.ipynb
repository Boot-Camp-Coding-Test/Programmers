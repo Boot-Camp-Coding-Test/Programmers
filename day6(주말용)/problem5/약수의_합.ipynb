{
  "nbformat": 4,
  "nbformat_minor": 0,
  "metadata": {
    "colab": {
      "name": "약수의 합.ipynb",
      "provenance": []
    },
    "kernelspec": {
      "name": "python3",
      "display_name": "Python 3"
    },
    "language_info": {
      "name": "python"
    }
  },
  "cells": [
    {
      "cell_type": "code",
      "metadata": {
        "id": "EDWB0v9tMQG7"
      },
      "source": [
        "def solution(n):\n",
        "    answer = 0\n",
        "    for i in range(1, n+1):\n",
        "        if n%i == 0:\n",
        "            answer += i\n",
        "    return answer"
      ],
      "execution_count": 40,
      "outputs": []
    },
    {
      "cell_type": "code",
      "metadata": {
        "colab": {
          "base_uri": "https://localhost:8080/"
        },
        "id": "nSkE1qvKLjKD",
        "outputId": "d9390bc0-076c-4469-a052-576dfc70d7f1"
      },
      "source": [
        "# 28\n",
        "n = 12\n",
        "solution(n)"
      ],
      "execution_count": 41,
      "outputs": [
        {
          "output_type": "execute_result",
          "data": {
            "text/plain": [
              "28"
            ]
          },
          "metadata": {
            "tags": []
          },
          "execution_count": 41
        }
      ]
    },
    {
      "cell_type": "code",
      "metadata": {
        "colab": {
          "base_uri": "https://localhost:8080/"
        },
        "id": "BGyE06_RRcSd",
        "outputId": "49e0ae17-efbd-4acc-ebd8-a8ccecf2e4a9"
      },
      "source": [
        "# 6\n",
        "n = 5\n",
        "solution(n)"
      ],
      "execution_count": 42,
      "outputs": [
        {
          "output_type": "execute_result",
          "data": {
            "text/plain": [
              "6"
            ]
          },
          "metadata": {
            "tags": []
          },
          "execution_count": 42
        }
      ]
    },
    {
      "cell_type": "code",
      "metadata": {
        "id": "MfB4mckmSFwx"
      },
      "source": [
        ""
      ],
      "execution_count": null,
      "outputs": []
    }
  ]
}