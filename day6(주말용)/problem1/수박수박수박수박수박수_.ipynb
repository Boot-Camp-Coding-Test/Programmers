{
  "nbformat": 4,
  "nbformat_minor": 0,
  "metadata": {
    "colab": {
      "name": "수박수박수박수박수박수?.ipynb",
      "provenance": []
    },
    "kernelspec": {
      "name": "python3",
      "display_name": "Python 3"
    },
    "language_info": {
      "name": "python"
    }
  },
  "cells": [
    {
      "cell_type": "code",
      "metadata": {
        "id": "EDWB0v9tMQG7"
      },
      "source": [
        "def solution(n):\n",
        "    answer = ''\n",
        "    for i in range(1,n+1):\n",
        "        if i % 2 == 0:\n",
        "            answer += '박'\n",
        "        else:\n",
        "            answer += '수'\n",
        "            \n",
        "    return answer"
      ],
      "execution_count": 10,
      "outputs": []
    },
    {
      "cell_type": "code",
      "metadata": {
        "colab": {
          "base_uri": "https://localhost:8080/",
          "height": 35
        },
        "id": "nSkE1qvKLjKD",
        "outputId": "a6ca9a2a-4798-4c01-b4cf-fc29d4c129cc"
      },
      "source": [
        "# 43\n",
        "n = 3\n",
        "solution(n)"
      ],
      "execution_count": 11,
      "outputs": [
        {
          "output_type": "execute_result",
          "data": {
            "application/vnd.google.colaboratory.intrinsic+json": {
              "type": "string"
            },
            "text/plain": [
              "'수박수'"
            ]
          },
          "metadata": {
            "tags": []
          },
          "execution_count": 11
        }
      ]
    },
    {
      "cell_type": "code",
      "metadata": {
        "id": "RrgW54iYMVJq"
      },
      "source": [
        ""
      ],
      "execution_count": null,
      "outputs": []
    }
  ]
}