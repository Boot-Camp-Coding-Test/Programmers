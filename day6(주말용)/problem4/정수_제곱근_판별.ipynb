{
  "nbformat": 4,
  "nbformat_minor": 0,
  "metadata": {
    "colab": {
      "name": "정수 제곱근 판별.ipynb",
      "provenance": []
    },
    "kernelspec": {
      "name": "python3",
      "display_name": "Python 3"
    },
    "language_info": {
      "name": "python"
    }
  },
  "cells": [
    {
      "cell_type": "code",
      "metadata": {
        "id": "EDWB0v9tMQG7"
      },
      "source": [
        "def solution(n):\n",
        "    answer = 0\n",
        "    res = n ** 0.5\n",
        "    if str(res)[-1] == '0':\n",
        "        answer = (res+1)**2\n",
        "\n",
        "    else:\n",
        "        answer = -1\n",
        "    return answer"
      ],
      "execution_count": 36,
      "outputs": []
    },
    {
      "cell_type": "code",
      "metadata": {
        "colab": {
          "base_uri": "https://localhost:8080/"
        },
        "id": "nSkE1qvKLjKD",
        "outputId": "953764cb-a23c-464e-f49e-5162895056d9"
      },
      "source": [
        "n = 121\n",
        "solution(n)"
      ],
      "execution_count": 37,
      "outputs": [
        {
          "output_type": "execute_result",
          "data": {
            "text/plain": [
              "144.0"
            ]
          },
          "metadata": {
            "tags": []
          },
          "execution_count": 37
        }
      ]
    },
    {
      "cell_type": "code",
      "metadata": {
        "colab": {
          "base_uri": "https://localhost:8080/"
        },
        "id": "BGyE06_RRcSd",
        "outputId": "84b2ac1d-6899-4c7b-e952-5e290460dd22"
      },
      "source": [
        "n = 30\n",
        "solution(n)"
      ],
      "execution_count": 38,
      "outputs": [
        {
          "output_type": "execute_result",
          "data": {
            "text/plain": [
              "-1"
            ]
          },
          "metadata": {
            "tags": []
          },
          "execution_count": 38
        }
      ]
    },
    {
      "cell_type": "code",
      "metadata": {
        "id": "MfB4mckmSFwx"
      },
      "source": [
        ""
      ],
      "execution_count": null,
      "outputs": []
    }
  ]
}