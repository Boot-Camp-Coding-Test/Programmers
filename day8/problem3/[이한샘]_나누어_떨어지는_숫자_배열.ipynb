{
  "nbformat": 4,
  "nbformat_minor": 0,
  "metadata": {
    "colab": {
      "name": "[이한샘] 나누어 떨어지는 숫자 배열.ipynb",
      "provenance": [],
      "collapsed_sections": []
    },
    "kernelspec": {
      "name": "python3",
      "display_name": "Python 3"
    },
    "language_info": {
      "name": "python"
    }
  },
  "cells": [
    {
      "cell_type": "code",
      "metadata": {
        "id": "xrvkLULKWcNH"
      },
      "source": [
        "def solution(arr, divisor):\n",
        "    answer = []\n",
        "    for a in arr : \n",
        "      if a % divisor == 0 :\n",
        "        answer.append(a)\n",
        "    if not answer :\n",
        "      return [-1]\n",
        "    return sorted(answer)"
      ],
      "execution_count": 161,
      "outputs": []
    },
    {
      "cell_type": "code",
      "metadata": {
        "id": "zt91sqStejE6"
      },
      "source": [
        "arr = [5, 9, 7, 10]\n",
        "divisor = 5"
      ],
      "execution_count": 159,
      "outputs": []
    },
    {
      "cell_type": "code",
      "metadata": {
        "colab": {
          "base_uri": "https://localhost:8080/"
        },
        "id": "HE-vEvpaelDA",
        "outputId": "8c5f4fd0-d256-4d55-ddb2-98e9fefa31b8"
      },
      "source": [
        "solution(arr, divisor)"
      ],
      "execution_count": 162,
      "outputs": [
        {
          "output_type": "execute_result",
          "data": {
            "text/plain": [
              "[5, 10]"
            ]
          },
          "metadata": {
            "tags": []
          },
          "execution_count": 162
        }
      ]
    }
  ]
}