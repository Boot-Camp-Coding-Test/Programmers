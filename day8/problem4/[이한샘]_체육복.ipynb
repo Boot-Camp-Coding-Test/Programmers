{
  "nbformat": 4,
  "nbformat_minor": 0,
  "metadata": {
    "colab": {
      "name": "[이한샘] 체육복.ipynb",
      "provenance": [],
      "collapsed_sections": []
    },
    "kernelspec": {
      "name": "python3",
      "display_name": "Python 3"
    },
    "language_info": {
      "name": "python"
    }
  },
  "cells": [
    {
      "cell_type": "code",
      "metadata": {
        "id": "Cf1vyBbpEvua"
      },
      "source": [
        "def solution(n, lost, reserve):\n",
        "    n_list = n*[1]\n",
        "    for r in reserve :\n",
        "      n_list[r-1] += 1\n",
        "    for l in lost :\n",
        "      n_list[l-1] -= 1\n",
        "    print(n_list)\n",
        "    for i in range(len(n_list)) :\n",
        "      if i == 0 :\n",
        "       if n_list[i] == 0 and n_list[i+1] == 2 :\n",
        "          n_list[i] += 1\n",
        "          n_list[i+1] -= 1\n",
        "      elif i == len(n_list)-1 :\n",
        "        if n_list[i] == 0 and n_list[i-1] == 2 :\n",
        "           n_list[i] += 1\n",
        "           n_list[i-1] -= 1\n",
        "      else :\n",
        "        if n_list[i] == 0 and n_list[i-1] == 2:\n",
        "           n_list[i] +=1\n",
        "           n_list[i-1] -=1\n",
        "        elif n_list[i] == 0 and n_list[i+1] == 2:\n",
        "           n_list[i] += 1\n",
        "           n_list[i+1] -= 1\n",
        "    print(n_list)\n",
        "    return n-n_list.count(0)"
      ],
      "execution_count": 67,
      "outputs": []
    }
  ]
}