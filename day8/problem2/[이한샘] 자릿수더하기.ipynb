{
  "nbformat": 4,
  "nbformat_minor": 0,
  "metadata": {
    "colab": {
      "name": "자연수뒤집기.ipynb",
      "provenance": []
    },
    "kernelspec": {
      "name": "python3",
      "display_name": "Python 3"
    },
    "language_info": {
      "name": "python"
    }
  },
  "cells": [
    {
      "cell_type": "code",
      "metadata": {
        "id": "xrvkLULKWcNH"
      },
      "source": [
        "def solution(n):\n",
        "    n = str(n)\n",
        "    answer = 0\n",
        "\n",
        "    for n in n :\n",
        "      answer += int(n)\n",
        "    return answer"
      ],
      "execution_count": 154,
      "outputs": []
    },
    {
      "cell_type": "code",
      "metadata": {
        "id": "zt91sqStejE6"
      },
      "source": [
        "n=123"
      ],
      "execution_count": 155,
      "outputs": []
    },
    {
      "cell_type": "code",
      "metadata": {
        "colab": {
          "base_uri": "https://localhost:8080/"
        },
        "id": "HE-vEvpaelDA",
        "outputId": "a4f06d0a-a061-4fa1-d0a1-a81eb99e303e"
      },
      "source": [
        "solution(n)"
      ],
      "execution_count": 156,
      "outputs": [
        {
          "output_type": "execute_result",
          "data": {
            "text/plain": [
              "6"
            ]
          },
          "metadata": {
            "tags": []
          },
          "execution_count": 156
        }
      ]
    }
  ]
}