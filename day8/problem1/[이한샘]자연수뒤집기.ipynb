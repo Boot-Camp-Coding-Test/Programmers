{
  "nbformat": 4,
  "nbformat_minor": 0,
  "metadata": {
    "colab": {
      "name": "자연수뒤집기.ipynb",
      "provenance": []
    },
    "kernelspec": {
      "name": "python3",
      "display_name": "Python 3"
    },
    "language_info": {
      "name": "python"
    }
  },
  "cells": [
    {
      "cell_type": "code",
      "metadata": {
        "id": "xrvkLULKWcNH"
      },
      "source": [
        "def solution(n):\n",
        "    n = str(n)\n",
        "    answer =[]\n",
        "    if len(n) == 1 :\n",
        "      return [int(n)]\n",
        "    answer.append(int(n[-1]))\n",
        "    return answer + solution(int(n[:-1]))"
      ],
      "execution_count": 152,
      "outputs": []
    }
  ]
}
