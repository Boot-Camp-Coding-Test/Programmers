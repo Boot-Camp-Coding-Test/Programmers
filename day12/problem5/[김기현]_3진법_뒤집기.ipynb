{
  "nbformat": 4,
  "nbformat_minor": 0,
  "metadata": {
    "colab": {
      "name": "[김기현] 3진법 뒤집기.ipynb",
      "provenance": [],
      "collapsed_sections": []
    },
    "kernelspec": {
      "name": "python3",
      "display_name": "Python 3"
    },
    "language_info": {
      "name": "python"
    }
  },
  "cells": [
    {
      "cell_type": "markdown",
      "metadata": {
        "id": "kxz4Vgu7WlN5"
      },
      "source": [
        "**문제 설명**\n",
        "\n",
        "자연수 n이 매개변수로 주어집니다. n을 3진법 상에서 앞뒤로 뒤집은 후, 이를 다시 10진법으로 표현한 수를 return 하도록 solution 함수를 완성해주세요.\n",
        "\n",
        "**제한 조건**\n",
        "\n",
        "- n은 1 이상 100,000,000 이하인 자연수입니다.\n",
        "\n",
        "**입출력 예 #1**\n",
        "\n",
        "답을 도출하는 과정은 다음과 같습니다.\n",
        "\n",
        "| n (10진법) |\tn (3진법)\t| 앞뒤 반전(3진법) |\t10진법으로 표현 |\n",
        "|------------|------------|------------------|------------------|\n",
        "| 45 |\t1200\t| 0021 |\t7 |\n",
        "\n",
        "따라서 7을 return 해야 합니다."
      ]
    },
    {
      "cell_type": "code",
      "metadata": {
        "id": "x4ff_xcHFhub"
      },
      "source": [
        "def solution(n):\n",
        "    new = {}\n",
        "    answer = 0\n",
        "\n",
        "    lim = 0\n",
        "    for i in range(0, 17):\n",
        "        if n>=3**i:\n",
        "            lim = i+1\n",
        "\n",
        "    new[0] = n%3\n",
        "    n = n//3\n",
        "\n",
        "    for j in range(1, lim):\n",
        "        new[j] = n%(3)\n",
        "        n = n//(3)\n",
        "\n",
        "    cnt = 0\n",
        "    for k in range(lim-1, -1, -1):\n",
        "        answer += new[k]*(3**cnt)\n",
        "        cnt+=1\n",
        "\n",
        "    \n",
        "    return answer"
      ],
      "execution_count": 62,
      "outputs": []
    },
    {
      "cell_type": "code",
      "metadata": {
        "colab": {
          "base_uri": "https://localhost:8080/"
        },
        "id": "z2PADGV7Fi7V",
        "outputId": "8e98ef23-6f12-4bb0-938e-915c7416d3f4"
      },
      "source": [
        "n = 45\n",
        "solution(n)"
      ],
      "execution_count": 63,
      "outputs": [
        {
          "output_type": "execute_result",
          "data": {
            "text/plain": [
              "7"
            ]
          },
          "metadata": {
            "tags": []
          },
          "execution_count": 63
        }
      ]
    },
    {
      "cell_type": "code",
      "metadata": {
        "id": "bghm1-z3BwQR",
        "colab": {
          "base_uri": "https://localhost:8080/"
        },
        "outputId": "0f965b6f-167c-4c78-f4a2-ac2e779ec8cd"
      },
      "source": [
        "n = 125\n",
        "solution(n)"
      ],
      "execution_count": 64,
      "outputs": [
        {
          "output_type": "execute_result",
          "data": {
            "text/plain": [
              "229"
            ]
          },
          "metadata": {
            "tags": []
          },
          "execution_count": 64
        }
      ]
    },
    {
      "cell_type": "code",
      "metadata": {
        "id": "gAZKQRq-dF4q"
      },
      "source": [
        ""
      ],
      "execution_count": null,
      "outputs": []
    }
  ]
}