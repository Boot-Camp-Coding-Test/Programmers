{
  "nbformat": 4,
  "nbformat_minor": 0,
  "metadata": {
    "colab": {
      "name": "[김기현] 시저 암호.ipynb",
      "provenance": [],
      "collapsed_sections": []
    },
    "kernelspec": {
      "name": "python3",
      "display_name": "Python 3"
    },
    "language_info": {
      "name": "python"
    }
  },
  "cells": [
    {
      "cell_type": "markdown",
      "metadata": {
        "id": "kxz4Vgu7WlN5"
      },
      "source": [
        "**문제 설명**\n",
        "\n",
        "어떤 문장의 각 알파벳을 일정한 거리만큼 밀어서 다른 알파벳으로 바꾸는 암호화 방식을 시저 암호라고 합니다. \n",
        "\n",
        "예를 들어 \"AB\"는 1만큼 밀면 \"BC\"가 되고, 3만큼 밀면 \"DE\"가 됩니다. \"z\"는 1만큼 밀면 \"a\"가 됩니다. 문자열 s와 거리 n을 입력받아 s를 n만큼 민 암호문을 만드는 함수, solution을 완성해 보세요.\n",
        "\n",
        "**제한 조건**\n",
        "\n",
        "공백은 아무리 밀어도 공백입니다.\n",
        "\n",
        "s는 알파벳 소문자, 대문자, 공백으로만 이루어져 있습니다.\n",
        "\n",
        "s의 길이는 8000이하입니다.\n",
        "\n",
        "n은 1 이상, 25이하인 자연수입니다."
      ]
    },
    {
      "cell_type": "code",
      "metadata": {
        "id": "x4ff_xcHFhub"
      },
      "source": [
        "def solution(s, n):\n",
        "    lst = [None] * len(s)\n",
        "    for i in range(len(s)):\n",
        "        if (ord(s[i]) >= 97 and ord(s[i]) <= 122):\n",
        "            if ord(s[i]) + n > 122:\n",
        "                new_n = n-(122-ord(s[i]))-1\n",
        "                lst[i] = chr(97 + new_n)\n",
        "            else:\n",
        "                lst[i] = chr(ord(s[i])+n)\n",
        "\n",
        "        elif (ord(s[i]) >= 65 and ord(s[i]) <= 90):\n",
        "            if (ord(s[i]) + n) > 90:\n",
        "                new_n = n-(90-ord(s[i]))-1\n",
        "                lst[i] = chr(65 + new_n)\n",
        "            else:\n",
        "                lst[i] = chr(ord(s[i])+n)\n",
        "\n",
        "        else:\n",
        "            lst[i] = s[i]\n",
        "\n",
        "    answer = ''.join(lst)\n",
        "\n",
        "    return answer"
      ],
      "execution_count": 65,
      "outputs": []
    },
    {
      "cell_type": "code",
      "metadata": {
        "colab": {
          "base_uri": "https://localhost:8080/",
          "height": 35
        },
        "id": "z2PADGV7Fi7V",
        "outputId": "47bac870-af70-4bd5-d989-02c1fbf86d83"
      },
      "source": [
        "s = \"AB\"\n",
        "n = 1\n",
        "solution(s, n)"
      ],
      "execution_count": 66,
      "outputs": [
        {
          "output_type": "execute_result",
          "data": {
            "application/vnd.google.colaboratory.intrinsic+json": {
              "type": "string"
            },
            "text/plain": [
              "'BC'"
            ]
          },
          "metadata": {
            "tags": []
          },
          "execution_count": 66
        }
      ]
    },
    {
      "cell_type": "code",
      "metadata": {
        "id": "bghm1-z3BwQR",
        "colab": {
          "base_uri": "https://localhost:8080/",
          "height": 35
        },
        "outputId": "9c3490c0-6a6b-4a39-d59e-d14f291cec4c"
      },
      "source": [
        "s = \"z\"\n",
        "n = 1\n",
        "solution(s, n)"
      ],
      "execution_count": 67,
      "outputs": [
        {
          "output_type": "execute_result",
          "data": {
            "application/vnd.google.colaboratory.intrinsic+json": {
              "type": "string"
            },
            "text/plain": [
              "'a'"
            ]
          },
          "metadata": {
            "tags": []
          },
          "execution_count": 67
        }
      ]
    },
    {
      "cell_type": "code",
      "metadata": {
        "colab": {
          "base_uri": "https://localhost:8080/",
          "height": 35
        },
        "id": "HK8qtWsfW8_6",
        "outputId": "df1fe270-52a8-4b09-9d46-cb699a54c3cd"
      },
      "source": [
        "s = \"a B Z\"\n",
        "n = 4\n",
        "solution(s, n)"
      ],
      "execution_count": 68,
      "outputs": [
        {
          "output_type": "execute_result",
          "data": {
            "application/vnd.google.colaboratory.intrinsic+json": {
              "type": "string"
            },
            "text/plain": [
              "'e F D'"
            ]
          },
          "metadata": {
            "tags": []
          },
          "execution_count": 68
        }
      ]
    },
    {
      "cell_type": "code",
      "metadata": {
        "colab": {
          "base_uri": "https://localhost:8080/"
        },
        "id": "5Zi813vcXA9c",
        "outputId": "a39a1c30-71c4-4bf7-ec31-898a759f1bf5"
      },
      "source": [
        "print(solution(\"AB\", 1));\n",
        "print(solution(\"z\", 1));\n",
        "print(solution(\"Z\", 10));\n",
        "print(solution(\"a B z\", 4));\n",
        "print(solution(\" aBZ\", 20));\n",
        "print(solution(\"y X Z\", 4));\n",
        "print(solution(\" . h z\", 20));"
      ],
      "execution_count": 69,
      "outputs": [
        {
          "output_type": "stream",
          "text": [
            "BC\n",
            "a\n",
            "J\n",
            "e F d\n",
            " uVT\n",
            "c B D\n",
            " . b t\n"
          ],
          "name": "stdout"
        }
      ]
    },
    {
      "cell_type": "code",
      "metadata": {
        "id": "gAZKQRq-dF4q"
      },
      "source": [
        ""
      ],
      "execution_count": null,
      "outputs": []
    }
  ]
}