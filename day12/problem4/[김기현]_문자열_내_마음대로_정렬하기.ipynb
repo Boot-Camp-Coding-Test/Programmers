{
  "nbformat": 4,
  "nbformat_minor": 0,
  "metadata": {
    "colab": {
      "name": "[김기현] 문자열 내 마음대로 정렬하기.ipynb",
      "provenance": [],
      "collapsed_sections": []
    },
    "kernelspec": {
      "name": "python3",
      "display_name": "Python 3"
    },
    "language_info": {
      "name": "python"
    }
  },
  "cells": [
    {
      "cell_type": "markdown",
      "metadata": {
        "id": "kxz4Vgu7WlN5"
      },
      "source": [
        "**문제 설명**\n",
        "\n",
        "문자열로 구성된 리스트 strings와, 정수 n이 주어졌을 때, 각 문자열의 인덱스 n번째 글자를 기준으로 오름차순 정렬하려 합니다. 예를 들어 strings가 [\"sun\", \"bed\", \"car\"]이고 n이 1이면 각 단어의 인덱스 1의 문자 \"u\", \"e\", \"a\"로 strings를 정렬합니다.\n",
        "\n",
        "**제한 조건**\n",
        "\n",
        "- strings는 길이 1 이상, 50이하인 배열입니다.\n",
        "- strings의 원소는 소문자 알파벳으로 이루어져 있습니다.\n",
        "- strings의 원소는 길이 1 이상, 100이하인 문자열입니다.\n",
        "- 모든 strings의 원소의 길이는 n보다 큽니다.\n",
        "- 인덱스 1의 문자가 같은 문자열이 여럿 일 경우, 사전순으로 앞선 문자열이 앞쪽에 위치합니다."
      ]
    },
    {
      "cell_type": "code",
      "metadata": {
        "id": "x4ff_xcHFhub"
      },
      "source": [
        "def solution(strings, n):\n",
        "    res = [None] * len(strings)\n",
        "    answer = []\n",
        "    for i in range(len(strings)):\n",
        "        res[i] = strings[i][n]\n",
        "    res = sorted(res)\n",
        "\n",
        "    new_strings = sorted(strings)\n",
        "    \n",
        "    for item in res:\n",
        "        for st in new_strings:\n",
        "            if item == st[n] and (st not in answer):\n",
        "                answer.append(st)\n",
        "                break\n",
        "\n",
        "    return answer"
      ],
      "execution_count": 22,
      "outputs": []
    },
    {
      "cell_type": "code",
      "metadata": {
        "colab": {
          "base_uri": "https://localhost:8080/"
        },
        "id": "z2PADGV7Fi7V",
        "outputId": "d186c9a7-61cb-406e-9d0b-3fa0e560f3e5"
      },
      "source": [
        "s = [\"sun\", \"bed\", \"car\"]\n",
        "n = 1\n",
        "solution(s, n)"
      ],
      "execution_count": 23,
      "outputs": [
        {
          "output_type": "execute_result",
          "data": {
            "text/plain": [
              "['car', 'bed', 'sun']"
            ]
          },
          "metadata": {
            "tags": []
          },
          "execution_count": 23
        }
      ]
    },
    {
      "cell_type": "code",
      "metadata": {
        "id": "bghm1-z3BwQR",
        "colab": {
          "base_uri": "https://localhost:8080/"
        },
        "outputId": "39fde9d9-ed6e-4ec4-f0c4-02c1347d5a84"
      },
      "source": [
        "s = [\"abce\", \"abcd\", \"cdx\"]\n",
        "n = 2\n",
        "solution(s, n)"
      ],
      "execution_count": 24,
      "outputs": [
        {
          "output_type": "execute_result",
          "data": {
            "text/plain": [
              "['abcd', 'abce', 'cdx']"
            ]
          },
          "metadata": {
            "tags": []
          },
          "execution_count": 24
        }
      ]
    },
    {
      "cell_type": "code",
      "metadata": {
        "id": "gAZKQRq-dF4q"
      },
      "source": [
        ""
      ],
      "execution_count": 6,
      "outputs": []
    }
  ]
}