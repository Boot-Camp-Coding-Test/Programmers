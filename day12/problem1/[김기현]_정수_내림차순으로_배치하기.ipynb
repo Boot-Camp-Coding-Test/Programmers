{
  "nbformat": 4,
  "nbformat_minor": 0,
  "metadata": {
    "colab": {
      "name": "[김기현] 정수 내림차순으로 배치하기.ipynb",
      "provenance": []
    },
    "kernelspec": {
      "name": "python3",
      "display_name": "Python 3"
    },
    "language_info": {
      "name": "python"
    }
  },
  "cells": [
    {
      "cell_type": "code",
      "metadata": {
        "id": "x4ff_xcHFhub"
      },
      "source": [
        "def solution(n):\n",
        "    s = sorted(str(n), reverse = True)\n",
        "    answer = int(''.join(s))\n",
        "    return answer"
      ],
      "execution_count": 22,
      "outputs": []
    },
    {
      "cell_type": "code",
      "metadata": {
        "colab": {
          "base_uri": "https://localhost:8080/"
        },
        "id": "z2PADGV7Fi7V",
        "outputId": "c7a2725e-0d5e-480d-80d6-4122904072f1"
      },
      "source": [
        "n = 118372\n",
        "solution(n)"
      ],
      "execution_count": 23,
      "outputs": [
        {
          "output_type": "execute_result",
          "data": {
            "text/plain": [
              "873211"
            ]
          },
          "metadata": {
            "tags": []
          },
          "execution_count": 23
        }
      ]
    },
    {
      "cell_type": "code",
      "metadata": {
        "id": "bghm1-z3BwQR"
      },
      "source": [
        ""
      ],
      "execution_count": null,
      "outputs": []
    }
  ]
}