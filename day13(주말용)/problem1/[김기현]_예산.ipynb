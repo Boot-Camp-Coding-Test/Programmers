{
  "nbformat": 4,
  "nbformat_minor": 0,
  "metadata": {
    "colab": {
      "name": "[김기현] 예산.ipynb",
      "provenance": []
    },
    "kernelspec": {
      "name": "python3",
      "display_name": "Python 3"
    },
    "language_info": {
      "name": "python"
    }
  },
  "cells": [
    {
      "cell_type": "markdown",
      "metadata": {
        "id": "LQsTAJEHy8EO"
      },
      "source": [
        "**문제 설명**\n",
        "\n",
        "S사에서는 각 부서에 필요한 물품을 지원해 주기 위해 부서별로 물품을 구매하는데 필요한 금액을 조사했습니다. 그러나, 전체 예산이 정해져 있기 때문에 모든 부서의 물품을 구매해 줄 수는 없습니다. 그래서 최대한 많은 부서의 물품을 구매해 줄 수 있도록 하려고 합니다.\n",
        "\n",
        "물품을 구매해 줄 때는 각 부서가 신청한 금액만큼을 모두 지원해 줘야 합니다. 예를 들어 1,000원을 신청한 부서에는 정확히 1,000원을 지원해야 하며, 1,000원보다 적은 금액을 지원해 줄 수는 없습니다.\n",
        "\n",
        "부서별로 신청한 금액이 들어있는 배열 d와 예산 budget이 매개변수로 주어질 때, 최대 몇 개의 부서에 물품을 지원할 수 있는지 return 하도록 solution 함수를 완성해주세요.\n",
        "\n",
        "**제한사항**\n",
        "\n",
        "d는 부서별로 신청한 금액이 들어있는 배열이며, 길이(전체 부서의 개수)는 1 이상 100 이하입니다.\n",
        "d의 각 원소는 부서별로 신청한 금액을 나타내며, 부서별 신청 금액은 1 이상 100,000 이하의 자연수입니다.\n",
        "budget은 예산을 나타내며, 1 이상 10,000,000 이하의 자연수입니다."
      ]
    },
    {
      "cell_type": "code",
      "metadata": {
        "id": "lv436iPDyiq6"
      },
      "source": [
        "def solution(d, budget):\n",
        "    answer = 0\n",
        "\n",
        "    d.sort()\n",
        "\n",
        "    if sum(d) == budget:\n",
        "        answer = len(d)\n",
        "        return answer\n",
        "\n",
        "    ind = 0\n",
        "    while 1:\n",
        "        if d[ind] <= budget:\n",
        "            budget -= d[ind]\n",
        "            answer += 1\n",
        "            ind += 1\n",
        "            if ind == len(d):\n",
        "                break\n",
        "        else:\n",
        "            break\n",
        "\n",
        "\n",
        "    return answer"
      ],
      "execution_count": 35,
      "outputs": []
    },
    {
      "cell_type": "code",
      "metadata": {
        "colab": {
          "base_uri": "https://localhost:8080/"
        },
        "id": "J1TJC42sz9dL",
        "outputId": "f9244a5d-d91d-46d6-bede-169c9e9a3815"
      },
      "source": [
        "d = [1,3,2,5,4]\n",
        "budget = 9\n",
        "solution(d, budget)"
      ],
      "execution_count": 36,
      "outputs": [
        {
          "output_type": "execute_result",
          "data": {
            "text/plain": [
              "3"
            ]
          },
          "metadata": {
            "tags": []
          },
          "execution_count": 36
        }
      ]
    },
    {
      "cell_type": "code",
      "metadata": {
        "colab": {
          "base_uri": "https://localhost:8080/"
        },
        "id": "AK-N-iv00DMo",
        "outputId": "deeb9bf1-5df8-439d-d37e-34e4fb0ad705"
      },
      "source": [
        "d = [2, 2, 3, 3]\n",
        "budget = 10\n",
        "solution(d, budget)"
      ],
      "execution_count": 37,
      "outputs": [
        {
          "output_type": "execute_result",
          "data": {
            "text/plain": [
              "4"
            ]
          },
          "metadata": {
            "tags": []
          },
          "execution_count": 37
        }
      ]
    },
    {
      "cell_type": "code",
      "metadata": {
        "id": "dj_k7lfJptDD"
      },
      "source": [
        ""
      ],
      "execution_count": null,
      "outputs": []
    }
  ]
}