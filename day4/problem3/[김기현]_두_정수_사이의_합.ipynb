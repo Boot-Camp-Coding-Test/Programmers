{
  "nbformat": 4,
  "nbformat_minor": 0,
  "metadata": {
    "colab": {
      "name": "[김기현] 두 정수 사이의 합.ipynb",
      "provenance": []
    },
    "kernelspec": {
      "name": "python3",
      "display_name": "Python 3"
    },
    "language_info": {
      "name": "python"
    }
  },
  "cells": [
    {
      "cell_type": "code",
      "metadata": {
        "id": "gCYy3291d8C9"
      },
      "source": [
        "def solution(a, b):\n",
        "    sum_n = 0\n",
        "    if a == b:\n",
        "        return a\n",
        "    elif a > b:\n",
        "        for i in range(b,a+1):\n",
        "            sum_n += i\n",
        "        return sum_n\n",
        "    else:\n",
        "        for i in range(a,b+1):\n",
        "            sum_n += i\n",
        "        return sum_n"
      ],
      "execution_count": 89,
      "outputs": []
    },
    {
      "cell_type": "code",
      "metadata": {
        "colab": {
          "base_uri": "https://localhost:8080/"
        },
        "id": "GtyCdKEpv1ZG",
        "outputId": "0abd6e22-deb0-46e9-ac44-7743073e2939"
      },
      "source": [
        "solution(3,4)"
      ],
      "execution_count": 90,
      "outputs": [
        {
          "output_type": "execute_result",
          "data": {
            "text/plain": [
              "7"
            ]
          },
          "metadata": {
            "tags": []
          },
          "execution_count": 90
        }
      ]
    },
    {
      "cell_type": "code",
      "metadata": {
        "colab": {
          "base_uri": "https://localhost:8080/"
        },
        "id": "wnrNdmruv6UY",
        "outputId": "d925a11c-81fe-4c18-f2f2-487210b351a6"
      },
      "source": [
        "solution(3,3)"
      ],
      "execution_count": 91,
      "outputs": [
        {
          "output_type": "execute_result",
          "data": {
            "text/plain": [
              "3"
            ]
          },
          "metadata": {
            "tags": []
          },
          "execution_count": 91
        }
      ]
    },
    {
      "cell_type": "code",
      "metadata": {
        "colab": {
          "base_uri": "https://localhost:8080/"
        },
        "id": "KMp2fib1v8pW",
        "outputId": "c00ec50f-8914-45fc-87b9-9192274f233b"
      },
      "source": [
        "solution(5,3)"
      ],
      "execution_count": 92,
      "outputs": [
        {
          "output_type": "execute_result",
          "data": {
            "text/plain": [
              "12"
            ]
          },
          "metadata": {
            "tags": []
          },
          "execution_count": 92
        }
      ]
    },
    {
      "cell_type": "code",
      "metadata": {
        "id": "n6o_QTMw7h_n"
      },
      "source": [
        ""
      ],
      "execution_count": null,
      "outputs": []
    }
  ]
}