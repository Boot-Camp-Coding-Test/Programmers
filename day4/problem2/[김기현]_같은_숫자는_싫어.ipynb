{
  "nbformat": 4,
  "nbformat_minor": 0,
  "metadata": {
    "colab": {
      "name": "[김기현] 같은 숫자는 싫어.ipynb",
      "provenance": []
    },
    "kernelspec": {
      "name": "python3",
      "display_name": "Python 3"
    },
    "language_info": {
      "name": "python"
    }
  },
  "cells": [
    {
      "cell_type": "code",
      "metadata": {
        "id": "gCYy3291d8C9"
      },
      "source": [
        "def solution(arr):\n",
        "    answer = []\n",
        "    answer.append(arr[0])\n",
        "    for i in range(1, len(arr)):\n",
        "        if arr[i-1] != arr[i]:\n",
        "            answer.append(arr[i])\n",
        "    return answer"
      ],
      "execution_count": 74,
      "outputs": []
    },
    {
      "cell_type": "code",
      "metadata": {
        "colab": {
          "base_uri": "https://localhost:8080/"
        },
        "id": "GtyCdKEpv1ZG",
        "outputId": "e71687e9-a7ec-4ac3-8195-a9177e6d509d"
      },
      "source": [
        "arr = [1,1,3,4,3,3,0,1,1,3]\n",
        "solution(arr)"
      ],
      "execution_count": 75,
      "outputs": [
        {
          "output_type": "execute_result",
          "data": {
            "text/plain": [
              "[1, 3, 4, 3, 0, 1, 3]"
            ]
          },
          "metadata": {
            "tags": []
          },
          "execution_count": 75
        }
      ]
    },
    {
      "cell_type": "code",
      "metadata": {
        "colab": {
          "base_uri": "https://localhost:8080/"
        },
        "id": "wnrNdmruv6UY",
        "outputId": "bebf8056-c52b-4355-c7b3-ec71da8a2fa7"
      },
      "source": [
        "arr = [4, 4, 4, 3, 3]\n",
        "solution(arr)"
      ],
      "execution_count": 76,
      "outputs": [
        {
          "output_type": "execute_result",
          "data": {
            "text/plain": [
              "[4, 3]"
            ]
          },
          "metadata": {
            "tags": []
          },
          "execution_count": 76
        }
      ]
    },
    {
      "cell_type": "code",
      "metadata": {
        "id": "KMp2fib1v8pW"
      },
      "source": [
        ""
      ],
      "execution_count": null,
      "outputs": []
    }
  ]
}