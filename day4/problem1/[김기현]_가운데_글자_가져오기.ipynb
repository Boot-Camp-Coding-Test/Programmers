{
  "nbformat": 4,
  "nbformat_minor": 0,
  "metadata": {
    "colab": {
      "name": "[김기현] 가운데 글자 가져오기.ipynb",
      "provenance": []
    },
    "kernelspec": {
      "name": "python3",
      "display_name": "Python 3"
    },
    "language_info": {
      "name": "python"
    }
  },
  "cells": [
    {
      "cell_type": "code",
      "metadata": {
        "id": "gCYy3291d8C9"
      },
      "source": [
        "def solution(s):\n",
        "    if len(s)%2 != 0:\n",
        "        return s[len(s)//2]\n",
        "    else:\n",
        "        return s[(len(s)//2)-1:(len(s)//2)+1]\n",
        "    return answer"
      ],
      "execution_count": 16,
      "outputs": []
    },
    {
      "cell_type": "code",
      "metadata": {
        "colab": {
          "base_uri": "https://localhost:8080/",
          "height": 35
        },
        "id": "GtyCdKEpv1ZG",
        "outputId": "2a6884c7-de3f-4c01-d2b0-35f6715d82d4"
      },
      "source": [
        "s = \"abcde\"\n",
        "solution(s)"
      ],
      "execution_count": 17,
      "outputs": [
        {
          "output_type": "execute_result",
          "data": {
            "application/vnd.google.colaboratory.intrinsic+json": {
              "type": "string"
            },
            "text/plain": [
              "'c'"
            ]
          },
          "metadata": {
            "tags": []
          },
          "execution_count": 17
        }
      ]
    },
    {
      "cell_type": "code",
      "metadata": {
        "colab": {
          "base_uri": "https://localhost:8080/",
          "height": 35
        },
        "id": "wnrNdmruv6UY",
        "outputId": "a55853ad-2b30-497a-e3d0-c4d90848b789"
      },
      "source": [
        "s = \"qwtdft\"\n",
        "solution(s)"
      ],
      "execution_count": 19,
      "outputs": [
        {
          "output_type": "execute_result",
          "data": {
            "application/vnd.google.colaboratory.intrinsic+json": {
              "type": "string"
            },
            "text/plain": [
              "'td'"
            ]
          },
          "metadata": {
            "tags": []
          },
          "execution_count": 19
        }
      ]
    },
    {
      "cell_type": "code",
      "metadata": {
        "id": "KMp2fib1v8pW"
      },
      "source": [
        ""
      ],
      "execution_count": null,
      "outputs": []
    }
  ]
}