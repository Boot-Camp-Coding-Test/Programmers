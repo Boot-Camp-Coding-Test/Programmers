{
  "nbformat": 4,
  "nbformat_minor": 0,
  "metadata": {
    "colab": {
      "name": "[김기현] 2016년.ipynb",
      "provenance": []
    },
    "kernelspec": {
      "name": "python3",
      "display_name": "Python 3"
    },
    "language_info": {
      "name": "python"
    }
  },
  "cells": [
    {
      "cell_type": "markdown",
      "metadata": {
        "id": "wLR_4u8Z8gwm"
      },
      "source": [
        "**문제 설명**\n",
        "\n",
        "2016년 1월 1일은 금요일입니다. 2016년 a월 b일은 무슨 요일일까요? \n",
        "\n",
        "두 수 a ,b를 입력받아 2016년 a월 b일이 무슨 요일인지 리턴하는 함수, solution을 완성하세요. \n",
        "\n",
        "요일의 이름은 일요일부터 토요일까지 각각 SUN,MON,TUE,WED,THU,FRI,SAT입니다. 예를 들어 a=5, b=24라면 5월 24일은 화요일이므로 문자열 \"TUE\"를 반환하세요.\n",
        "\n",
        "**제한 조건**\n",
        "- 2016년은 윤년입니다.\n",
        "- 2016년 a월 b일은 실제로 있는 날입니다. (13월 26일이나 2월 45일같은 날짜는 주어지지 않습니다)"
      ]
    },
    {
      "cell_type": "code",
      "metadata": {
        "id": "gCYy3291d8C9"
      },
      "source": [
        "def solution(a, b):\n",
        "    day = {0:'SUN', 1:'MON', 2:'TUE',\n",
        "              3:'WED', 4:'THU', 5:'FRI',\n",
        "              6:'SAT'}\n",
        "    date = 0\n",
        "    cnt = 5\n",
        "\n",
        "    for i in range(1,a+1):\n",
        "        if i == a:\n",
        "            date += b\n",
        "            break\n",
        "        elif i == 2:\n",
        "            date += 29\n",
        "        elif ((i<=7) and (i%2 != 0)) or ((i>7) and (i%2 == 0)):\n",
        "            date += 31\n",
        "        else:\n",
        "            date += 30\n",
        "\n",
        "    for j in range(date-1):\n",
        "        if cnt == 6:\n",
        "            cnt -=6\n",
        "        else:\n",
        "            cnt += 1\n",
        "\n",
        "\n",
        "\n",
        "    return day[cnt]"
      ],
      "execution_count": 96,
      "outputs": []
    },
    {
      "cell_type": "code",
      "metadata": {
        "colab": {
          "base_uri": "https://localhost:8080/",
          "height": 35
        },
        "id": "lLN8yiS6AjD0",
        "outputId": "006f4443-4ec2-45c0-f11b-d5c9ce99403b"
      },
      "source": [
        "solution(1,6) # 'WED'"
      ],
      "execution_count": 97,
      "outputs": [
        {
          "output_type": "execute_result",
          "data": {
            "application/vnd.google.colaboratory.intrinsic+json": {
              "type": "string"
            },
            "text/plain": [
              "'WED'"
            ]
          },
          "metadata": {
            "tags": []
          },
          "execution_count": 97
        }
      ]
    },
    {
      "cell_type": "code",
      "metadata": {
        "colab": {
          "base_uri": "https://localhost:8080/",
          "height": 35
        },
        "id": "GtyCdKEpv1ZG",
        "outputId": "17410d0e-fb68-4fb3-ae2a-c846fce7b5c7"
      },
      "source": [
        "solution(5,24) # 'TUE'"
      ],
      "execution_count": 98,
      "outputs": [
        {
          "output_type": "execute_result",
          "data": {
            "application/vnd.google.colaboratory.intrinsic+json": {
              "type": "string"
            },
            "text/plain": [
              "'TUE'"
            ]
          },
          "metadata": {
            "tags": []
          },
          "execution_count": 98
        }
      ]
    },
    {
      "cell_type": "code",
      "metadata": {
        "colab": {
          "base_uri": "https://localhost:8080/",
          "height": 35
        },
        "id": "wnrNdmruv6UY",
        "outputId": "35fa1b83-da13-43f4-9335-a29dc5595e5d"
      },
      "source": [
        "solution(3,3)"
      ],
      "execution_count": 99,
      "outputs": [
        {
          "output_type": "execute_result",
          "data": {
            "application/vnd.google.colaboratory.intrinsic+json": {
              "type": "string"
            },
            "text/plain": [
              "'THU'"
            ]
          },
          "metadata": {
            "tags": []
          },
          "execution_count": 99
        }
      ]
    },
    {
      "cell_type": "code",
      "metadata": {
        "colab": {
          "base_uri": "https://localhost:8080/",
          "height": 35
        },
        "id": "KMp2fib1v8pW",
        "outputId": "338c5ae1-671a-41ac-ccf4-aea72667f95c"
      },
      "source": [
        "solution(5,3)"
      ],
      "execution_count": 100,
      "outputs": [
        {
          "output_type": "execute_result",
          "data": {
            "application/vnd.google.colaboratory.intrinsic+json": {
              "type": "string"
            },
            "text/plain": [
              "'TUE'"
            ]
          },
          "metadata": {
            "tags": []
          },
          "execution_count": 100
        }
      ]
    },
    {
      "cell_type": "code",
      "metadata": {
        "id": "n6o_QTMw7h_n"
      },
      "source": [
        ""
      ],
      "execution_count": null,
      "outputs": []
    }
  ]
}