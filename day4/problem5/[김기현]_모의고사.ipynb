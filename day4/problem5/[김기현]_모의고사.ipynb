{
  "nbformat": 4,
  "nbformat_minor": 0,
  "metadata": {
    "colab": {
      "name": "[김기현] 모의고사.ipynb",
      "provenance": []
    },
    "kernelspec": {
      "name": "python3",
      "display_name": "Python 3"
    },
    "language_info": {
      "name": "python"
    }
  },
  "cells": [
    {
      "cell_type": "markdown",
      "metadata": {
        "id": "wLR_4u8Z8gwm"
      },
      "source": [
        "**문제 설명**\n",
        "\n",
        "수포자는 수학을 포기한 사람의 준말입니다. 수포자 삼인방은 모의고사에 수학 문제를 전부 찍으려 합니다. 수포자는 1번 문제부터 마지막 문제까지 다음과 같이 찍습니다.\n",
        "\n",
        "- 1번 수포자가 찍는 방식: 1, 2, 3, 4, 5, 1, 2, 3, 4, 5, ...\n",
        "\n",
        "- 2번 수포자가 찍는 방식: 2, 1, 2, 3, 2, 4, 2, 5, 2, 1, 2, 3, 2, 4, 2, 5, ...\n",
        "\n",
        "- 3번 수포자가 찍는 방식: 3, 3, 1, 1, 2, 2, 4, 4, 5, 5, 3, 3, 1, 1, 2, 2, 4, 4, 5, 5, ...\n",
        "\n",
        "1번 문제부터 마지막 문제까지의 정답이 순서대로 들은 배열 answers가 주어졌을 때, 가장 많은 문제를 맞힌 사람이 누구인지 배열에 담아 return 하도록 solution 함수를 작성해주세요.\n",
        "\n",
        "**제한 조건**\n",
        "- 시험은 최대 10,000 문제로 구성되어있습니다.\n",
        "- 문제의 정답은 1, 2, 3, 4, 5중 하나입니다.\n",
        "- 가장 높은 점수를 받은 사람이 여럿일 경우, return하는 값을 오름차순 정렬해주세요."
      ]
    },
    {
      "cell_type": "code",
      "metadata": {
        "id": "xFXwZF1MCi-x"
      },
      "source": [
        "# 1번 - 1,2,3,4,5\n",
        "# 2번 - 2 사이에 1,3,4,5 (2 1 2 3 2 4 ...)\n",
        "# 3번 - 3 3 1 1 2 2 4 4 5 5 3 3 ...\n",
        "\n",
        "def solution(answers):\n",
        "    sheet1 = []\n",
        "    ans1 = 0 \n",
        "    sheet2 = []\n",
        "    ans2 = 0\n",
        "    sheet3 = []\n",
        "    ans3 = 3\n",
        "\n",
        "    # 1번 정답지\n",
        "    for i in range(len(answers)):\n",
        "        if ans1 == 5:\n",
        "            ans1 = 1\n",
        "        else:\n",
        "            ans1 +=1 \n",
        "        sheet1.append(ans1)\n",
        "\n",
        "    # 2번 정답지\n",
        "    for i in range(len(answers)):\n",
        "        if i%2 == 0:\n",
        "            sheet2.append(2)\n",
        "        else:\n",
        "            if ans2 == 5:\n",
        "                ans2 = 1\n",
        "            elif ans2 == 1:\n",
        "                ans2 = 3\n",
        "            else:\n",
        "                ans2 +=1 \n",
        "            sheet2.append(ans2)\n",
        "\n",
        "    # 3번 정답지\n",
        "    for i in range(0, len(answers), 2):\n",
        "        sheet3.append(ans3)\n",
        "        sheet3.append(ans3)\n",
        "        if ans3 == 3:\n",
        "            ans3 = 1\n",
        "        elif ans3 == 2:\n",
        "            ans3 = 4\n",
        "        elif ans3 == 5:\n",
        "            ans3 = 3\n",
        "        else:\n",
        "            ans3 +=1\n",
        "    if len(answers)%2 == 1:\n",
        "        sheet3.pop(-1)\n",
        "\n",
        "    # 채점\n",
        "    cnt1 = 0\n",
        "    cnt2 = 0\n",
        "    cnt3 = 0\n",
        "    for i in range(len(answers)):\n",
        "        if answers[i] == sheet1[i]:\n",
        "            cnt1 += 1\n",
        "        if answers[i] == sheet2[i]:\n",
        "            cnt2 += 1\n",
        "        if answers[i] == sheet3[i]:\n",
        "            cnt3 += 1\n",
        "\n",
        "    # 성적\n",
        "    res = []\n",
        "    best = max(cnt1, cnt2, cnt3)\n",
        "    if best == cnt1:\n",
        "        res.append(1)\n",
        "    if best == cnt2:\n",
        "        res.append(2)\n",
        "    if best == cnt3:\n",
        "        res.append(3)\n",
        "\n",
        "\n",
        "    return res"
      ],
      "execution_count": 140,
      "outputs": []
    },
    {
      "cell_type": "code",
      "metadata": {
        "colab": {
          "base_uri": "https://localhost:8080/"
        },
        "id": "lLN8yiS6AjD0",
        "outputId": "6d9dd8b2-fe03-457c-b298-aef8b61bac14"
      },
      "source": [
        "answers = [1,2,3,4,5]\n",
        "solution(answers) # [1]"
      ],
      "execution_count": 141,
      "outputs": [
        {
          "output_type": "execute_result",
          "data": {
            "text/plain": [
              "[1]"
            ]
          },
          "metadata": {
            "tags": []
          },
          "execution_count": 141
        }
      ]
    },
    {
      "cell_type": "code",
      "metadata": {
        "colab": {
          "base_uri": "https://localhost:8080/"
        },
        "id": "GtyCdKEpv1ZG",
        "outputId": "46ad9764-7b78-4087-e6de-8ceb45b66f4a"
      },
      "source": [
        "answers = [1,3,2,4,2]\n",
        "solution(answers) # [1, 2, 3]"
      ],
      "execution_count": 142,
      "outputs": [
        {
          "output_type": "execute_result",
          "data": {
            "text/plain": [
              "[1, 2, 3]"
            ]
          },
          "metadata": {
            "tags": []
          },
          "execution_count": 142
        }
      ]
    },
    {
      "cell_type": "code",
      "metadata": {
        "colab": {
          "base_uri": "https://localhost:8080/"
        },
        "id": "pAp59IzJJWIr",
        "outputId": "f074dcf4-54a2-47b2-e68e-11e460852873"
      },
      "source": [
        "answers = [1,3,2,4,2,5,5,5,5,5,1,1,2]\n",
        "solution(answers) # [1, 2, 3]"
      ],
      "execution_count": 143,
      "outputs": [
        {
          "output_type": "execute_result",
          "data": {
            "text/plain": [
              "[1, 2, 3]"
            ]
          },
          "metadata": {
            "tags": []
          },
          "execution_count": 143
        }
      ]
    },
    {
      "cell_type": "code",
      "metadata": {
        "id": "n6o_QTMw7h_n"
      },
      "source": [
        ""
      ],
      "execution_count": 103,
      "outputs": []
    }
  ]
}