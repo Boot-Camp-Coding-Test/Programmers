{
  "nbformat": 4,
  "nbformat_minor": 0,
  "metadata": {
    "colab": {
      "name": "문자열다루기.ipynb",
      "provenance": [],
      "collapsed_sections": []
    },
    "kernelspec": {
      "name": "python3",
      "display_name": "Python 3"
    },
    "language_info": {
      "name": "python"
    }
  },
  "cells": [
    {
      "cell_type": "code",
      "metadata": {
        "id": "EJV9_-wZ_Xcs"
      },
      "source": [
        "def solution(s):\n",
        "  if len(s) == 4 or len(s) == 6 :\n",
        "    if s.isdecimal() :\n",
        "        return True\n",
        "    else :\n",
        "        return False\n",
        "  else : \n",
        "    return False\n"
      ],
      "execution_count": 11,
      "outputs": []
    }
  ]
}
