{
  "nbformat": 4,
  "nbformat_minor": 0,
  "metadata": {
    "colab": {
      "name": "[김기현] 문자열 다루기 기본.ipynb",
      "provenance": []
    },
    "kernelspec": {
      "name": "python3",
      "display_name": "Python 3"
    },
    "language_info": {
      "name": "python"
    }
  },
  "cells": [
    {
      "cell_type": "markdown",
      "metadata": {
        "id": "i9IwmTKTXszv"
      },
      "source": [
        "문자열 s의 길이가 4 혹은 6이고, 숫자로만 구성돼있는지 확인해주는 함수, solution을 완성하세요. 예를 들어 s가 \"a234\"이면 False를 리턴하고 \"1234\"라면 True를 리턴하면 됩니다."
      ]
    },
    {
      "cell_type": "code",
      "metadata": {
        "id": "EDWB0v9tMQG7"
      },
      "source": [
        "def solution(s):\n",
        "    try:\n",
        "        a = int(s)\n",
        "    except:\n",
        "        return False\n",
        "    if len(s) == 4 or len(s) == 6:\n",
        "            return True\n",
        "    else:\n",
        "        return False"
      ],
      "execution_count": 59,
      "outputs": []
    },
    {
      "cell_type": "code",
      "metadata": {
        "colab": {
          "base_uri": "https://localhost:8080/"
        },
        "id": "nSkE1qvKLjKD",
        "outputId": "50dc0cd9-a10a-41bf-eb5b-af3662048494"
      },
      "source": [
        "# false\n",
        "s = \"a234\"\n",
        "solution(s)"
      ],
      "execution_count": 60,
      "outputs": [
        {
          "output_type": "execute_result",
          "data": {
            "text/plain": [
              "False"
            ]
          },
          "metadata": {
            "tags": []
          },
          "execution_count": 60
        }
      ]
    },
    {
      "cell_type": "code",
      "metadata": {
        "colab": {
          "base_uri": "https://localhost:8080/"
        },
        "id": "BGyE06_RRcSd",
        "outputId": "7eb7f16e-4226-4b56-a6a6-976f02db4947"
      },
      "source": [
        "# true\n",
        "s = \"1234\"\n",
        "solution(s)"
      ],
      "execution_count": 61,
      "outputs": [
        {
          "output_type": "execute_result",
          "data": {
            "text/plain": [
              "True"
            ]
          },
          "metadata": {
            "tags": []
          },
          "execution_count": 61
        }
      ]
    },
    {
      "cell_type": "code",
      "metadata": {
        "id": "MfB4mckmSFwx"
      },
      "source": [
        ""
      ],
      "execution_count": null,
      "outputs": []
    }
  ]
}