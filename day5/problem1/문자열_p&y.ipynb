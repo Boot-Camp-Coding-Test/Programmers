{
  "nbformat": 4,
  "nbformat_minor": 0,
  "metadata": {
    "colab": {
      "name": "문자열 p&y.ipynb",
      "provenance": [],
      "collapsed_sections": []
    },
    "kernelspec": {
      "name": "python3",
      "display_name": "Python 3"
    },
    "language_info": {
      "name": "python"
    }
  },
  "cells": [
    {
      "cell_type": "code",
      "metadata": {
        "id": "WjZ_8fAb23lE"
      },
      "source": [
        "def solution(s):\n",
        "    s = s.lower()\n",
        "    p_num = 0\n",
        "    y_num = 0\n",
        "    for s in s :\n",
        "      if s == 'p' :\n",
        "        p_num += 1\n",
        "      elif s == 'y' :\n",
        "        y_num +=1\n",
        "    if p_num == y_num  :\n",
        "      return True\n",
        "    else :\n",
        "      return False"
      ],
      "execution_count": 8,
      "outputs": []
    },
    {
      "cell_type": "code",
      "metadata": {
        "id": "wIh_xv4l9ian"
      },
      "source": [
        "s = \"pPoooyY\""
      ],
      "execution_count": 4,
      "outputs": []
    },
    {
      "cell_type": "code",
      "metadata": {
        "colab": {
          "base_uri": "https://localhost:8080/"
        },
        "id": "gGu_2HXf-My2",
        "outputId": "76c1446d-8acc-4cd4-a342-aeb3dc43d29b"
      },
      "source": [
        "solution(s)"
      ],
      "execution_count": 9,
      "outputs": [
        {
          "output_type": "execute_result",
          "data": {
            "text/plain": [
              "True"
            ]
          },
          "metadata": {
            "tags": []
          },
          "execution_count": 9
        }
      ]
    }
  ]
}