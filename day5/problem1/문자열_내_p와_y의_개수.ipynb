{
  "nbformat": 4,
  "nbformat_minor": 0,
  "metadata": {
    "colab": {
      "name": "문자열 내 p와 y의 개수.ipynb",
      "provenance": []
    },
    "kernelspec": {
      "name": "python3",
      "display_name": "Python 3"
    },
    "language_info": {
      "name": "python"
    }
  },
  "cells": [
    {
      "cell_type": "markdown",
      "metadata": {
        "id": "uXS2pO-VWKs7"
      },
      "source": [
        "**문제 설명**\n",
        "\n",
        "대문자와 소문자가 섞여있는 문자열 s가 주어집니다. s에 'p'의 개수와 'y'의 개수를 비교해 같으면 True, 다르면 False를 return 하는 solution를 완성하세요. 'p', 'y' 모두 하나도 없는 경우는 항상 True를 리턴합니다. 단, 개수를 비교할 때 대문자와 소문자는 구별하지 않습니다.\n",
        "\n",
        "예를 들어 s가 \"pPoooyY\"면 true를 return하고 \"Pyy\"라면 false를 return합니다.\n",
        "\n",
        "**제한사항**\n",
        "\n",
        "- 문자열 s의 길이 : 50 이하의 자연수\n",
        "- 문자열 s는 알파벳으로만 이루어져 있습니다."
      ]
    },
    {
      "cell_type": "code",
      "metadata": {
        "id": "EDWB0v9tMQG7"
      },
      "source": [
        "def solution(s):\n",
        "    answer = s.lower()\n",
        "    list1 = [0,0]\n",
        "    \n",
        "    for i in answer:\n",
        "        if i == 'p':\n",
        "            list1[0] += 1\n",
        "        elif i == 'y':\n",
        "            list1[1] += 1\n",
        "\n",
        "    if list1[0] == list1[1]:\n",
        "        return True\n",
        "    else:\n",
        "        return False"
      ],
      "execution_count": 50,
      "outputs": []
    },
    {
      "cell_type": "code",
      "metadata": {
        "colab": {
          "base_uri": "https://localhost:8080/"
        },
        "id": "nSkE1qvKLjKD",
        "outputId": "1e4acf44-e203-4afc-db99-3520946871b6"
      },
      "source": [
        "# true\n",
        "s = \"pPoooyY\"\n",
        "solution(s)"
      ],
      "execution_count": 51,
      "outputs": [
        {
          "output_type": "execute_result",
          "data": {
            "text/plain": [
              "True"
            ]
          },
          "metadata": {
            "tags": []
          },
          "execution_count": 51
        }
      ]
    },
    {
      "cell_type": "code",
      "metadata": {
        "colab": {
          "base_uri": "https://localhost:8080/"
        },
        "id": "BGyE06_RRcSd",
        "outputId": "ee890258-227c-4fb1-f9da-ad600f3a15df"
      },
      "source": [
        "# false\n",
        "s = \"Pyy\"\n",
        "solution(s)"
      ],
      "execution_count": 52,
      "outputs": [
        {
          "output_type": "execute_result",
          "data": {
            "text/plain": [
              "False"
            ]
          },
          "metadata": {
            "tags": []
          },
          "execution_count": 52
        }
      ]
    },
    {
      "cell_type": "code",
      "metadata": {
        "id": "MfB4mckmSFwx"
      },
      "source": [
        ""
      ],
      "execution_count": null,
      "outputs": []
    }
  ]
}