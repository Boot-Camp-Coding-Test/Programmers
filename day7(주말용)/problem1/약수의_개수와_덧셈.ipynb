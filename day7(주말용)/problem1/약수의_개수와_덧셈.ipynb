{
  "nbformat": 4,
  "nbformat_minor": 0,
  "metadata": {
    "colab": {
      "name": "약수의 개수와 덧셈.ipynb",
      "provenance": []
    },
    "kernelspec": {
      "name": "python3",
      "display_name": "Python 3"
    },
    "language_info": {
      "name": "python"
    }
  },
  "cells": [
    {
      "cell_type": "markdown",
      "metadata": {
        "id": "L3jtbYNYLn3H"
      },
      "source": [
        "두 정수 left와 right가 매개변수로 주어집니다. left부터 right까지의 모든 수들 중에서, 약수의 개수가 짝수인 수는 더하고, 약수의 개수가 홀수인 수는 뺀 수를 return 하도록 solution 함수를 완성해주세요.\n",
        "- 1 ≤ left ≤ right ≤ 1,000"
      ]
    },
    {
      "cell_type": "code",
      "metadata": {
        "id": "EDWB0v9tMQG7"
      },
      "source": [
        "def solution(left, right):\n",
        "    answer = 0\n",
        "    for i in range(left, right+1):\n",
        "        cnt = 0\n",
        "        for j in range(1, i+1):\n",
        "            if i%j == 0 :\n",
        "                cnt += 1\n",
        "\n",
        "        if cnt % 2 == 0:\n",
        "            answer += i\n",
        "        else:\n",
        "            answer = answer - i\n",
        "            \n",
        "    return answer"
      ],
      "execution_count": 7,
      "outputs": []
    },
    {
      "cell_type": "code",
      "metadata": {
        "colab": {
          "base_uri": "https://localhost:8080/"
        },
        "id": "nSkE1qvKLjKD",
        "outputId": "c568793a-d9f6-4d1e-a83a-50f1f771f1c2"
      },
      "source": [
        "# 43\n",
        "left = 13\n",
        "right = 17\n",
        "solution(left, right)"
      ],
      "execution_count": 8,
      "outputs": [
        {
          "output_type": "execute_result",
          "data": {
            "text/plain": [
              "43"
            ]
          },
          "metadata": {
            "tags": []
          },
          "execution_count": 8
        }
      ]
    },
    {
      "cell_type": "code",
      "metadata": {
        "colab": {
          "base_uri": "https://localhost:8080/"
        },
        "id": "TFDfmWVwMR5p",
        "outputId": "6761b8ee-1330-4dbb-cef7-e1fac2b1c689"
      },
      "source": [
        "# 52\n",
        "left = 24\n",
        "right = 27\n",
        "solution(left, right)"
      ],
      "execution_count": 9,
      "outputs": [
        {
          "output_type": "execute_result",
          "data": {
            "text/plain": [
              "52"
            ]
          },
          "metadata": {
            "tags": []
          },
          "execution_count": 9
        }
      ]
    },
    {
      "cell_type": "code",
      "metadata": {
        "id": "RrgW54iYMVJq"
      },
      "source": [
        ""
      ],
      "execution_count": null,
      "outputs": []
    }
  ]
}